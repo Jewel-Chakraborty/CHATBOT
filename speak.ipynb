{
 "cells": [
  {
   "cell_type": "code",
   "execution_count": 1,
   "metadata": {},
   "outputs": [],
   "source": [
    "from gtts import gTTS\n",
    "import pyglet\n",
    "import time, os\n",
    "\n",
    "def tts(text, lang):\n",
    "    file = gTTS(text = text, lang = lang)\n",
    "    filename = '/tmp/temp.mp3'\n",
    "    file.save(filename)\n",
    "\n",
    "    music = pyglet.media.load(filename, streaming = False)\n",
    "    music.play()\n",
    "\n",
    "    time.sleep(music.duration)\n",
    "    os.remove(filename)"
   ]
  },
  {
   "cell_type": "code",
   "execution_count": null,
   "metadata": {},
   "outputs": [],
   "source": []
  }
 ],
 "metadata": {
  "kernelspec": {
   "display_name": "Python 3",
   "language": "python",
   "name": "python3"
  },
  "language_info": {
   "codemirror_mode": {
    "name": "ipython",
    "version": 3
   },
   "file_extension": ".py",
   "mimetype": "text/x-python",
   "name": "python",
   "nbconvert_exporter": "python",
   "pygments_lexer": "ipython3",
   "version": "3.5.5"
  }
 },
 "nbformat": 4,
 "nbformat_minor": 2
}
