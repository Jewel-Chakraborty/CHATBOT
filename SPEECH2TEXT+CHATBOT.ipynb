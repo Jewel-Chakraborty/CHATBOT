{
 "cells": [
  {
   "cell_type": "code",
   "execution_count": 1,
   "metadata": {},
   "outputs": [],
   "source": [
    "import speech_recognition as sr\n",
    "import nltk\n",
    "import warnings\n",
    "warnings.filterwarnings(\"ignore\")\n",
    "import numpy as np\n",
    "import random\n",
    "import string \n",
    "import time\n",
    "import speak"
   ]
  },
  {
   "cell_type": "code",
   "execution_count": 2,
   "metadata": {},
   "outputs": [],
   "source": [
    "f=open('chatbot14.txt','r',errors='ignore')\n"
   ]
  },
  {
   "cell_type": "code",
   "execution_count": 3,
   "metadata": {},
   "outputs": [],
   "source": [
    "raw=f.read()\n",
    "raw=raw.lower()"
   ]
  },
  {
   "cell_type": "code",
   "execution_count": 4,
   "metadata": {},
   "outputs": [],
   "source": [
    "sent_tokens = nltk.sent_tokenize(raw)# converts to list of sentences \n",
    "word_tokens = nltk.word_tokenize(raw)# converts to list of words\n"
   ]
  },
  {
   "cell_type": "code",
   "execution_count": 5,
   "metadata": {},
   "outputs": [
    {
     "data": {
      "text/plain": [
       "['okay so you asked me who are you,i am sorting hat friend,i have told you earlier,in raw language,i am a chatbot.',\n",
       " 'phoenix is official techno management fest of fiem stepping into its fourteenth year.',\n",
       " 'jewel chakraborty of cse 3rd year created me.',\n",
       " \"phoenix is a game r's paradise,there are plenty of games,if i get into a count i might end up falling in an infinite loop,games like cs 1.6,cs go,pubg and many more are there, go,visit,play and win.\",\n",
       " 'if photography events interest you and if photography is your passion then go visit pentaprism and instaframe,my friend,you are definitely a hufflepuff.',\n",
       " 'if you are a management guy and you love managing and leadership go to pitchers,it is your destination,welcome my slytherin.',\n",
       " 'i was coded in core python.',\n",
       " 'yes i am immortal as long as i have backup of my data.',\n",
       " 'universe is something that we cannot even imagine.',\n",
       " 'you love technical stuffs,i know you where to put,you are a griffindor.',\n",
       " 'so my friend if you say you love podium and all other non technical events,you are definitely a ravenclaw.']"
      ]
     },
     "execution_count": 5,
     "metadata": {},
     "output_type": "execute_result"
    }
   ],
   "source": [
    "sent_tokens[:]"
   ]
  },
  {
   "cell_type": "code",
   "execution_count": 6,
   "metadata": {},
   "outputs": [
    {
     "data": {
      "text/plain": [
       "['okay',\n",
       " 'so',\n",
       " 'you',\n",
       " 'asked',\n",
       " 'me',\n",
       " 'who',\n",
       " 'are',\n",
       " 'you',\n",
       " ',',\n",
       " 'i',\n",
       " 'am',\n",
       " 'sorting',\n",
       " 'hat',\n",
       " 'friend',\n",
       " ',',\n",
       " 'i',\n",
       " 'have',\n",
       " 'told',\n",
       " 'you',\n",
       " 'earlier',\n",
       " ',',\n",
       " 'in',\n",
       " 'raw',\n",
       " 'language',\n",
       " ',',\n",
       " 'i',\n",
       " 'am',\n",
       " 'a',\n",
       " 'chatbot',\n",
       " '.',\n",
       " 'phoenix',\n",
       " 'is',\n",
       " 'official',\n",
       " 'techno',\n",
       " 'management',\n",
       " 'fest',\n",
       " 'of',\n",
       " 'fiem',\n",
       " 'stepping',\n",
       " 'into',\n",
       " 'its',\n",
       " 'fourteenth',\n",
       " 'year',\n",
       " '.',\n",
       " 'jewel',\n",
       " 'chakraborty',\n",
       " 'of',\n",
       " 'cse',\n",
       " '3rd',\n",
       " 'year',\n",
       " 'created',\n",
       " 'me',\n",
       " '.',\n",
       " 'phoenix',\n",
       " 'is',\n",
       " 'a',\n",
       " 'game',\n",
       " 'r',\n",
       " \"'s\",\n",
       " 'paradise',\n",
       " ',',\n",
       " 'there',\n",
       " 'are',\n",
       " 'plenty',\n",
       " 'of',\n",
       " 'games',\n",
       " ',',\n",
       " 'if',\n",
       " 'i',\n",
       " 'get',\n",
       " 'into',\n",
       " 'a',\n",
       " 'count',\n",
       " 'i',\n",
       " 'might',\n",
       " 'end',\n",
       " 'up',\n",
       " 'falling',\n",
       " 'in',\n",
       " 'an',\n",
       " 'infinite',\n",
       " 'loop',\n",
       " ',',\n",
       " 'games',\n",
       " 'like',\n",
       " 'cs',\n",
       " '1.6',\n",
       " ',',\n",
       " 'cs',\n",
       " 'go',\n",
       " ',',\n",
       " 'pubg',\n",
       " 'and',\n",
       " 'many',\n",
       " 'more',\n",
       " 'are',\n",
       " 'there',\n",
       " ',',\n",
       " 'go',\n",
       " ',',\n",
       " 'visit',\n",
       " ',',\n",
       " 'play',\n",
       " 'and',\n",
       " 'win',\n",
       " '.',\n",
       " 'if',\n",
       " 'photography',\n",
       " 'events',\n",
       " 'interest',\n",
       " 'you',\n",
       " 'and',\n",
       " 'if',\n",
       " 'photography',\n",
       " 'is',\n",
       " 'your',\n",
       " 'passion',\n",
       " 'then',\n",
       " 'go',\n",
       " 'visit',\n",
       " 'pentaprism',\n",
       " 'and',\n",
       " 'instaframe',\n",
       " ',',\n",
       " 'my',\n",
       " 'friend',\n",
       " ',',\n",
       " 'you',\n",
       " 'are',\n",
       " 'definitely',\n",
       " 'a',\n",
       " 'hufflepuff',\n",
       " '.',\n",
       " 'if',\n",
       " 'you',\n",
       " 'are',\n",
       " 'a',\n",
       " 'management',\n",
       " 'guy',\n",
       " 'and',\n",
       " 'you',\n",
       " 'love',\n",
       " 'managing',\n",
       " 'and',\n",
       " 'leadership',\n",
       " 'go',\n",
       " 'to',\n",
       " 'pitchers',\n",
       " ',',\n",
       " 'it',\n",
       " 'is',\n",
       " 'your',\n",
       " 'destination',\n",
       " ',',\n",
       " 'welcome',\n",
       " 'my',\n",
       " 'slytherin',\n",
       " '.',\n",
       " 'i',\n",
       " 'was',\n",
       " 'coded',\n",
       " 'in',\n",
       " 'core',\n",
       " 'python',\n",
       " '.',\n",
       " 'yes',\n",
       " 'i',\n",
       " 'am',\n",
       " 'immortal',\n",
       " 'as',\n",
       " 'long',\n",
       " 'as',\n",
       " 'i',\n",
       " 'have',\n",
       " 'backup',\n",
       " 'of',\n",
       " 'my',\n",
       " 'data',\n",
       " '.',\n",
       " 'universe',\n",
       " 'is',\n",
       " 'something',\n",
       " 'that',\n",
       " 'we',\n",
       " 'can',\n",
       " 'not',\n",
       " 'even',\n",
       " 'imagine',\n",
       " '.',\n",
       " 'you',\n",
       " 'love',\n",
       " 'technical',\n",
       " 'stuffs',\n",
       " ',',\n",
       " 'i',\n",
       " 'know',\n",
       " 'you',\n",
       " 'where',\n",
       " 'to',\n",
       " 'put',\n",
       " ',',\n",
       " 'you',\n",
       " 'are',\n",
       " 'a',\n",
       " 'griffindor',\n",
       " '.',\n",
       " 'so',\n",
       " 'my',\n",
       " 'friend',\n",
       " 'if',\n",
       " 'you',\n",
       " 'say',\n",
       " 'you',\n",
       " 'love',\n",
       " 'podium',\n",
       " 'and',\n",
       " 'all',\n",
       " 'other',\n",
       " 'non',\n",
       " 'technical',\n",
       " 'events',\n",
       " ',',\n",
       " 'you',\n",
       " 'are',\n",
       " 'definitely',\n",
       " 'a',\n",
       " 'ravenclaw',\n",
       " '.']"
      ]
     },
     "execution_count": 6,
     "metadata": {},
     "output_type": "execute_result"
    }
   ],
   "source": [
    "word_tokens[:]"
   ]
  },
  {
   "cell_type": "code",
   "execution_count": 7,
   "metadata": {},
   "outputs": [],
   "source": [
    "lemmer = nltk.stem.WordNetLemmatizer()\n",
    "def LemTokens(tokens):\n",
    "    return [lemmer.lemmatize(token) for token in tokens]\n",
    "remove_punct_dict = dict((ord(punct), None) for punct in string.punctuation)\n",
    "def LemNormalize(text):\n",
    "    return LemTokens(nltk.word_tokenize(text.lower().translate(remove_punct_dict)))"
   ]
  },
  {
   "cell_type": "code",
   "execution_count": 8,
   "metadata": {},
   "outputs": [
    {
     "name": "stdout",
     "output_type": "stream",
     "text": [
      "13:53:27.834362\n"
     ]
    },
    {
     "data": {
      "text/plain": [
       "datetime.time"
      ]
     },
     "execution_count": 8,
     "metadata": {},
     "output_type": "execute_result"
    }
   ],
   "source": [
    "import datetime\n",
    "print(datetime.datetime.now().time())\n",
    "type(datetime.datetime.now().time())"
   ]
  },
  {
   "cell_type": "code",
   "execution_count": 9,
   "metadata": {},
   "outputs": [],
   "source": [
    "r=sr.Recognizer()"
   ]
  },
  {
   "cell_type": "code",
   "execution_count": 10,
   "metadata": {},
   "outputs": [],
   "source": [
    "\n",
    "#print(word)"
   ]
  },
  {
   "cell_type": "code",
   "execution_count": null,
   "metadata": {},
   "outputs": [],
   "source": []
  },
  {
   "cell_type": "code",
   "execution_count": 11,
   "metadata": {},
   "outputs": [
    {
     "data": {
      "text/plain": [
       "['hi',\n",
       " 'hey',\n",
       " '*nods*',\n",
       " 'hi there',\n",
       " 'hello',\n",
       " 'I am glad! You are talking to me',\n",
       " 'how are you?']"
      ]
     },
     "execution_count": 11,
     "metadata": {},
     "output_type": "execute_result"
    }
   ],
   "source": [
    "GREETING_INPUTS = [\"hello\", \"greetings\", \"sup\",\"hey\",\"hi\"]\n",
    "GREETING_RESPONSES = [\"hi\", \"hey\", \"*nods*\", \"hi there\", \"hello\", \"I am glad! You are talking to me\",\"how are you?\"]\n",
    "GREETING_RESPONSES\n"
   ]
  },
  {
   "cell_type": "code",
   "execution_count": 12,
   "metadata": {},
   "outputs": [],
   "source": [
    "GREETING_INPUTS1 = [\"morning\", ]\n",
    "GREETING_RESPONSES1= [ \"good morning mate,How are you? I am glad! You are talking to me\"]\n",
    "GREETING_INPUTS2 = [\"afternoon\", ]\n",
    "GREETING_RESPONSES2= [ \"I hope you are doing well\"]\n",
    "GREETING_INPUTS3 = [\"evening\", ]\n",
    "GREETING_RESPONSES3= [ \"ohh thanks mate\"]\n",
    "GREETING_INPUTS4 = [\"night\", ]\n",
    "GREETING_RESPONSES4= [ \"goodnight friend.go get a sleep\"]\n",
    "WARNING1=[\"have a look at your watch,its not morning\"]\n",
    "WARNING2=[\"go study your class 2 again,you dont know when to greet afternoon and when to greet evening\"]\n",
    "WARNING3=[\"you fool,evening will appear tomorrow again\"]\n",
    "WARNING4=[\"umm maintainance is mandatory for your watch.  is it the time to say good night?\"]"
   ]
  },
  {
   "cell_type": "code",
   "execution_count": 13,
   "metadata": {},
   "outputs": [],
   "source": [
    "def greeting(sentence):\n",
    "    \"\"\"If user's input is a greeting, return a greeting response\"\"\"\n",
    "    for word in sentence.split():\n",
    "        if word.lower() in GREETING_INPUTS:\n",
    "            return random.choice(GREETING_RESPONSES)\n",
    "            \n",
    "        if word.lower() in GREETING_INPUTS1:\n",
    "            if(str(datetime.datetime.now().time())<str(12)):\n",
    "                return random.choice(GREETING_RESPONSES1)\n",
    "            else:\n",
    "                return random.choice(WARNING1)\n",
    "                \n",
    "        if word.lower() in GREETING_INPUTS2:\n",
    "            if(str(12)<=str(datetime.datetime.now().time())<str(16)):\n",
    "                 return random.choice(GREETING_RESPONSES2)\n",
    "            else:\n",
    "                return random.choice(WARNING2)\n",
    "        \n",
    "        if word.lower() in GREETING_INPUTS3:\n",
    "            if(str(16)<=str(datetime.datetime.now().time())<str(20)):\n",
    "                return random.choice(GREETING_RESPONSES3)\n",
    "            else:\n",
    "                return random.choice(WARNING3)\n",
    "            \n",
    "        if word.lower() in GREETING_INPUTS4:\n",
    "            if(str(20)<=str(datetime.datetime.now().time())<=str(5)):\n",
    "                return random.choice(GREETING_RESPONSES4)\n",
    "            else:\n",
    "                return random.choice(WARNING4)"
   ]
  },
  {
   "cell_type": "code",
   "execution_count": 14,
   "metadata": {},
   "outputs": [],
   "source": [
    "from sklearn.feature_extraction.text import TfidfVectorizer\n",
    "from sklearn.metrics.pairwise import cosine_similarity"
   ]
  },
  {
   "cell_type": "code",
   "execution_count": 15,
   "metadata": {},
   "outputs": [],
   "source": [
    "#user_response=word"
   ]
  },
  {
   "cell_type": "code",
   "execution_count": 16,
   "metadata": {},
   "outputs": [],
   "source": [
    "#user_response=word\n",
    "def response(user_response):\n",
    "    robo_response=''\n",
    "    \n",
    "    \n",
    "    sent_tokens.append(user_response)\n",
    "    TfidfVec = TfidfVectorizer(tokenizer=LemNormalize, stop_words='english')\n",
    "    tfidf = TfidfVec.fit_transform(sent_tokens)\n",
    "    vals = cosine_similarity(tfidf[-1], tfidf)\n",
    "    idx=vals.argsort()[0][-2]\n",
    "    flat = vals.flatten()\n",
    "    flat.sort()\n",
    "    req_tfidf = flat[-2]\n",
    "    \n",
    "    if(req_tfidf==0):\n",
    "        robo_response=robo_response+\"I am sorry! I don't understand you.I recommend you to ask one of our coordinators\"\n",
    "        return robo_response\n",
    "    else:\n",
    "        robo_response = robo_response+sent_tokens[idx]\n",
    "        return robo_response\n",
    "        "
   ]
  },
  {
   "cell_type": "code",
   "execution_count": null,
   "metadata": {},
   "outputs": [],
   "source": []
  },
  {
   "cell_type": "code",
   "execution_count": null,
   "metadata": {},
   "outputs": [
    {
     "name": "stdout",
     "output_type": "stream",
     "text": [
      "SAY NOW\n",
      "SAY NOW\n"
     ]
    }
   ],
   "source": [
    "flag=True\n",
    "#print(\"SORTING HAT: My name is sorting hat. I will answer your queries about our events. If you want to exit, say Bye!\")\n",
    "lang = 'en'\n",
    "speak.tts(\"My name is sorting hat. I will answer your queries about our events. If you want to exit, say Bye!\",lang)\n",
    "while(flag==True):\n",
    "    \n",
    "    with sr.Microphone() as source:\n",
    "       print(\"SAY NOW\")\n",
    "       audio=r.listen(source)\n",
    "       user_response =r.recognize_google(audio)\n",
    "       #time.sleep(3)\n",
    "    \n",
    "    \n",
    "    user_response=user_response.lower()\n",
    "    if(user_response!='bye'):\n",
    "        if(user_response=='thanks' or user_response=='thank you' ):\n",
    "           \n",
    "            flag=True\n",
    "            speak.tts(\"You are welcome.\",lang)\n",
    "        else:\n",
    "            if(greeting(user_response)!=None):\n",
    "                speak.tts(greeting(user_response),lang)\n",
    "            else:\n",
    "                #print(\"SORTING HAT: \",end=\"\")\n",
    "                #print(response(user_response))\n",
    "                try:\n",
    "                    speak.tts(response(user_response), lang)\n",
    "                    sent_tokens.remove(user_response)\n",
    "                    user_response=\"\"\n",
    "                except sr.UnknownValueError:\n",
    "                    speak.tts(\"Google Speech Recognition could not understand audio\")\n",
    "                \n",
    "                \n",
    "    else:\n",
    "        flag=False\n",
    "        speak.tts(\"Bye! take care..\",lang)    \n",
    "from keras import backend as K\n",
    "K.clear_session()"
   ]
  },
  {
   "cell_type": "code",
   "execution_count": null,
   "metadata": {},
   "outputs": [],
   "source": []
  },
  {
   "cell_type": "code",
   "execution_count": null,
   "metadata": {},
   "outputs": [],
   "source": []
  }
 ],
 "metadata": {
  "kernelspec": {
   "display_name": "Python 3",
   "language": "python",
   "name": "python3"
  },
  "language_info": {
   "codemirror_mode": {
    "name": "ipython",
    "version": 3
   },
   "file_extension": ".py",
   "mimetype": "text/x-python",
   "name": "python",
   "nbconvert_exporter": "python",
   "pygments_lexer": "ipython3",
   "version": "3.5.5"
  }
 },
 "nbformat": 4,
 "nbformat_minor": 2
}
